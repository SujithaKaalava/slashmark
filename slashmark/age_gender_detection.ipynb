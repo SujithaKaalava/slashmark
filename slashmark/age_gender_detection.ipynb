{
 "cells": [
  {
   "cell_type": "code",
   "execution_count": 2,
   "id": "5f9a2109-7c63-4985-8153-ca6a964fae36",
   "metadata": {},
   "outputs": [],
   "source": [
    "# Import required modules\n",
    "import cv2 as cv\n",
    "import math\n",
    "import time\n"
   ]
  },
  {
   "cell_type": "code",
   "execution_count": 29,
   "id": "a2210f6d-d279-4c8b-a7c8-1c8a8d617699",
   "metadata": {},
   "outputs": [],
   "source": [
    "\n",
    "def getFaceBox(net, frame, conf_threshold=0.7):\n",
    "    frameOpencvDnn = frame.copy()\n",
    "    frameHeight = frameOpencvDnn.shape[0]\n",
    "    frameWidth = frameOpencvDnn.shape[1]\n",
    "    blob = cv.dnn.blobFromImage(frameOpencvDnn, 1.0, (300, 300), [104, 117, 123], True, False)    \n",
    "    net.setInput(blob)\n",
    "    detections = net.forward()\n",
    "    bboxes = []\n",
    "    for i in range(detections.shape[2]):\n",
    "        confidence = detections[0, 0, i, 2]\n",
    "        if confidence > conf_threshold:\n",
    "            x1 = int(detections[0, 0, i, 3] * frameWidth)\n",
    "            y1 = int(detections[0, 0, i, 4] * frameHeight)\n",
    "            x2 = int(detections[0, 0, i, 5] * frameWidth)\n",
    "            y2 = int(detections[0, 0, i, 6] * frameHeight)\n",
    "            bboxes.append([x1, y1, x2, y2])\n",
    "            cv.rectangle(frameOpencvDnn, (x1, y1), (x2, y2), (0, 255, 0), int(round(frameHeight/150)), 8)\n",
    "    return frameOpencvDnn, bboxes"
   ]
  },
  {
   "cell_type": "code",
   "execution_count": 30,
   "id": "951182cd-4088-4284-b78d-daf4ec95bf94",
   "metadata": {},
   "outputs": [],
   "source": [
    "faceProto = \"C:\\\\Users\\\\sujit\\\\my python files\\\\slashmark\\\\opencv_face_detector.pbtxt\"\n",
    "faceModel = \"C:\\\\Users\\\\sujit\\\\my python files\\\\slashmark\\\\opencv_face_detector_uint8.pb\"\n",
    "ageProto = \"C:\\\\Users\\\\sujit\\\\my python files\\\\slashmark\\\\age_deploy.prototxt\"\n",
    "ageModel = \"C:\\\\Users\\\\sujit\\\\my python files\\\\slashmark\\\\age_net.caffemodel\"\n",
    "genderProto = \"C:\\\\Users\\\\sujit\\\\my python files\\\\slashmark\\\\gender_deploy.prototxt\"\n",
    "genderModel = \"C:\\\\Users\\\\sujit\\\\my python files\\\\slashmark\\\\gender_net.caffemodel\""
   ]
  },
  {
   "cell_type": "code",
   "execution_count": 31,
   "id": "1df79205-6585-408f-801c-d322b6130245",
   "metadata": {},
   "outputs": [],
   "source": [
    "MODEL_MEAN_VALUES = (78.4263377603, 87.7689143744, 114.895847746)\n",
    "ageList = ['(0-2)', '(4-6)', '(8-12)', '(15-20)', '(25-32)', '(38-43)', '(48-53)', '(60-100)']\n",
    "genderList = ['Male', 'Female']"
   ]
  },
  {
   "cell_type": "code",
   "execution_count": 42,
   "id": "5c8c39ca-7af1-4ee6-8a35-2381d0b1a509",
   "metadata": {},
   "outputs": [],
   "source": [
    "# Load networkageNet = cv.dnn.readNet(ageModel, ageProto)\n",
    "genderNet = cv.dnn.readNet(genderModel, genderProto)\n",
    "ageNet = cv.dnn.readNet(ageModel, ageProto)\n",
    "faceNet = cv.dnn.readNet(faceModel, faceProto)"
   ]
  },
  {
   "cell_type": "code",
   "execution_count": 43,
   "id": "074bb2bb-b327-4746-9b55-9b488e63a6f3",
   "metadata": {},
   "outputs": [],
   "source": [
    "def age_gender_detector(frame, padding=20):\n",
    "    # Read frame\n",
    "    t = time.time()\n",
    "    frameFace, bboxes = getFaceBox(faceNet, frame)\n",
    "    for bbox in bboxes:\n",
    "        # print(bbox)\n",
    "        face = frame[max(0,bbox[1]-padding):min(bbox[3]+padding,frame.shape[0]-1),max(0,bbox[0]-padding):min(bbox[2]+padding, frame.shape[1]-1)]\n",
    "        blob = cv.dnn.blobFromImage(face, 1.0, (227, 227), MODEL_MEAN_VALUES, swapRB=False)\n",
    "        \n",
    "        genderNet.setInput(blob)\n",
    "        genderPreds = genderNet.forward()\n",
    "        gender = genderList[genderPreds[0].argmax()]\n",
    "        # print(\"Gender Output : {}\".format(genderPreds))\n",
    "        print(\"Gender : {}, conf = {:.3f}\".format(gender, genderPreds[0].max()))\n",
    "        \n",
    "        ageNet.setInput(blob)\n",
    "        agePreds = ageNet.forward()\n",
    "        age = ageList[agePreds[0].argmax()]\n",
    "        print(\"Age Output : {}\".format(agePreds))\n",
    "        print(\"Age : {}, conf = {:.3f}\".format(age, agePreds[0].max()))\n",
    "        \n",
    "        label = \"{},{}\".format(gender, age)\n",
    "        cv.putText(frameFace, label, (bbox[0], bbox[1]-10), cv.FONT_HERSHEY_SIMPLEX, 0.8, (0, 255, 255), 2, cv.LINE_AA)\n",
    "        \n",
    "    return frameFace\n"
   ]
  },
  {
   "cell_type": "code",
   "execution_count": null,
   "id": "0def08cc-5f1d-41a4-81c2-1d507145a051",
   "metadata": {},
   "outputs": [],
   "source": [
    "import cv2\n",
    "\n",
    "input_path = \"C:\\\\Users\\\\sujit\\\\my python files\\\\slashmark\\\\man1.jpg\"\n",
    "image = cv2.imread(input_path)\n",
    "\n",
    "output = age_gender_detector(image)\n",
    "cv2.imshow(\"Output\", output)\n",
    "cv2.waitKey(0)\n",
    "cv2.destroyAllWindows()\n"
   ]
  },
  {
   "cell_type": "code",
   "execution_count": null,
   "id": "eb581ae8-d042-481d-a50a-59b7cda0e95a",
   "metadata": {},
   "outputs": [],
   "source": []
  },
  {
   "cell_type": "code",
   "execution_count": null,
   "id": "32363134-b2c2-4dbe-9fab-6d673a5d6265",
   "metadata": {},
   "outputs": [],
   "source": []
  }
 ],
 "metadata": {
  "kernelspec": {
   "display_name": "Python 3 (ipykernel)",
   "language": "python",
   "name": "python3"
  },
  "language_info": {
   "codemirror_mode": {
    "name": "ipython",
    "version": 3
   },
   "file_extension": ".py",
   "mimetype": "text/x-python",
   "name": "python",
   "nbconvert_exporter": "python",
   "pygments_lexer": "ipython3",
   "version": "3.12.0"
  }
 },
 "nbformat": 4,
 "nbformat_minor": 5
}
